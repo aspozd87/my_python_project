{
 "cells": [
  {
   "cell_type": "code",
   "execution_count": 4,
   "id": "24c66cf2-e59e-4faa-8c86-110ecf681437",
   "metadata": {
    "tags": []
   },
   "outputs": [
    {
     "name": "stdin",
     "output_type": "stream",
     "text": [
      "Курс доллара к рублю Т-банк равен:  88.4\n",
      "Курс дирхама к рублю Т-банк равен:  23.61\n",
      "Курс долара к сумме Капиталл Банка:  12685\n",
      "Курс суммы к рублю Капиталл Банка:  140\n"
     ]
    },
    {
     "name": "stdout",
     "output_type": "stream",
     "text": [
      "\n",
      "Курс доллара к рублю Т-банк равен:  88.4\n",
      "Курс дирхама к рублю Т-банк равен:  23.96\n",
      "Маргарите перевести !!! 24065.04 24065\n",
      "\n",
      "\n",
      "Курс дирхама к рублю Т-банк равен:  23.61\n",
      "Маргарите перевести !!! 24585.0 24585\n",
      "\n",
      "\n",
      "Курс долара к сумме Капиталл Банка:  12685.0\n",
      "Курс суммы к рублю Капиталл Банка:  140.0\n",
      "Курс доллара к рублю Капиталл Банка:  90.61\n",
      "Маргарите перевести !!! 23167.828106852496\n",
      "\n",
      "Среднее значение перевода в рублях 24325.02032520325 24325\n"
     ]
    }
   ],
   "source": [
    "a=float(input('Курс доллара к рублю Т-банк равен: ')) #  Курс доллара к рублю Т-банк usd_rub\n",
    "b=float(input('Курс дирхама к рублю Т-банк равен: ')) #  Курс доллара к рублю Т-банк aed_rub\n",
    "c=float(input('Курс долара к сумме Капиталл Банка: ')) # Курс долара к сумме Капиталл Банка:\n",
    "d=float(input('Курс суммы к рублю Капиталл Банка: ')) # Курс суммы к рублю Капиталл Банка:\n",
    "\n",
    "# расчёт на основе курса доллара к рублю Банка Тинькофф\n",
    "tink_usd_rub=a\n",
    "uae_aed_usd=3.69\n",
    "tink_uae=a/uae_aed_usd\n",
    "margarita_tink_usd=60000-(1500*tink_uae)\n",
    "print('')\n",
    "print('Курс доллара к рублю Т-банк равен: ', tink_usd_rub)\n",
    "print('Курс дирхама к рублю Т-банк равен: ', round(tink_uae,2))\n",
    "print('Маргарите перевести !!!',round(margarita_tink_usd,2),round(margarita_tink_usd))\n",
    "print('')\n",
    "\n",
    "# расчёт на основе курса дирхам к рублю Банка Тинькофф\n",
    "margarita_tink_aed=60000-(1500*b)\n",
    "print('')\n",
    "print('Курс дирхама к рублю Т-банк равен: ', b)\n",
    "print('Маргарите перевести !!!',margarita_tink_aed,round(margarita_tink_aed))\n",
    "print('')\n",
    "\n",
    "\n",
    "# расчёт на основе курса суммы к рублю Капиталл Банка\n",
    "marg_usd=1500/3.69\n",
    "usd_uzb=c\n",
    "uzb_rub=d\n",
    "uzb_usd_rub=c/d\n",
    "\n",
    "usd_uzb_conv=c*marg_usd\n",
    "uzb_rb_conv=usd_uzb_conv/d\n",
    "margarita_uzb=60000-uzb_rb_conv\n",
    "\n",
    "print('')\n",
    "print('Курс долара к сумме Капиталл Банка: ',usd_uzb)\n",
    "print('Курс суммы к рублю Капиталл Банка: ', uzb_rub)\n",
    "print('Курс доллара к рублю Капиталл Банка: ', round(uzb_usd_rub,2))\n",
    "print('Маргарите перевести !!!',margarita_uzb)\n",
    "print('')\n",
    "\n",
    "\n",
    "# среднее значение\n",
    "print('Среднее значение перевода в рублях', (margarita_tink_usd+margarita_tink_aed)/2, round((margarita_tink_usd+margarita_tink_aed)/2))\n",
    "\n",
    "# Курс доллара к рублю Т-банк равен:  88.4\n",
    "# Курс дирхама к рублю Т-банк равен:  23.61\n",
    "# Курс долара к сумме Капиталл Банка: 12685\n",
    "# Курс суммы к рублю Капиталл Банка: 140"
   ]
  },
  {
   "cell_type": "code",
   "execution_count": null,
   "id": "d0f85d64-61fc-4d0c-98f7-d2c9d6d191f7",
   "metadata": {},
   "outputs": [],
   "source": []
  },
  {
   "cell_type": "markdown",
   "id": "d4ea1efb-d275-48f3-aa89-5f0ce88a6be8",
   "metadata": {},
   "source": []
  },
  {
   "cell_type": "markdown",
   "id": "4dec9e84-a082-4ff3-bdcc-b8fb70ee4ec5",
   "metadata": {},
   "source": []
  },
  {
   "cell_type": "markdown",
   "id": "8ab98bbc-5bdc-418c-8b16-1a5dbe1c6d1f",
   "metadata": {},
   "source": []
  },
  {
   "cell_type": "code",
   "execution_count": 1,
   "id": "7216c198-2e13-46a7-83a1-6b8d0f7de75d",
   "metadata": {
    "tags": []
   },
   "outputs": [
    {
     "name": "stdout",
     "output_type": "stream",
     "text": [
      "Месяц 1 Осталось 3247000 на вкладе\n",
      "Месяц 2 Осталось 3094000 на вкладе\n",
      "Месяц 3 Осталось 2941000 на вкладе\n",
      "Месяц 4 Осталось 2788000 на вкладе\n",
      "Месяц 5 Осталось 2635000 на вкладе\n",
      "Месяц 6 Осталось 2482000 на вкладе\n",
      "Месяц 7 Осталось 2329000 на вкладе\n",
      "Месяц 8 Осталось 2176000 на вкладе\n",
      "Месяц 9 Осталось 2023000 на вкладе\n",
      "Месяц 10 Осталось 1870000 на вкладе\n",
      "Месяц 11 Осталось 1717000 на вкладе\n",
      "Месяц 12 Осталось 1564000 на вкладе\n",
      "Месяц 13 Осталось 1411000 на вкладе\n",
      "Месяц 14 Осталось 1258000 на вкладе\n",
      "Месяц 15 Осталось 1105000 на вкладе\n",
      "Месяц 16 Осталось 952000 на вкладе\n",
      "Месяц 17 Осталось 799000 на вкладе\n",
      "Месяц 18 Осталось 646000 на вкладе\n",
      "Месяц 19 Осталось 493000 на вкладе\n",
      "Месяц 20 Осталось 340000 на вкладе\n",
      "Месяц 21 Осталось 187000 на вкладе\n",
      "Месяц 22 Осталось 34000 на вкладе\n"
     ]
    }
   ],
   "source": [
    "length = 3400000 # переменная, которая задаёт общую длину бумаги\n",
    "month = 1\n",
    "# объявим цикл while\n",
    "while length > 153000: \n",
    "    length -= 153000 # изменение переменной на каждой итерации\n",
    "    print(f'Месяц {month} Осталось {length} на вкладе')\n",
    "    month += 1"
   ]
  },
  {
   "cell_type": "code",
   "execution_count": 2,
   "id": "2329e045-a10c-4135-9ad2-c6c70d4a0a7e",
   "metadata": {},
   "outputs": [
    {
     "name": "stdout",
     "output_type": "stream",
     "text": [
      "Месяц | Баланс\n",
      "--------------------\n",
      "    1 | 3,295,166.67\n",
      "    2 | 3,188,848.19\n",
      "    3 | 3,081,023.54\n",
      "    4 | 2,971,671.38\n",
      "    5 | 2,860,770.06\n",
      "    6 | 2,748,297.63\n",
      "    7 | 2,634,231.85\n",
      "    8 | 2,518,550.13\n",
      "    9 | 2,401,229.59\n",
      "   10 | 2,282,247.01\n",
      "   11 | 2,161,578.84\n",
      "   12 | 2,039,201.21\n",
      "   13 | 1,915,089.89\n",
      "   14 | 1,789,220.34\n",
      "   15 | 1,661,567.62\n",
      "   16 | 1,532,106.50\n",
      "   17 | 1,400,811.34\n",
      "   18 | 1,267,656.17\n",
      "   19 | 1,132,614.63\n",
      "   20 | 995,660.00\n",
      "   21 | 856,765.19\n",
      "   22 | 715,902.69\n",
      "   23 | 573,044.65\n",
      "   24 | 428,162.78\n",
      "   25 | 281,228.42\n",
      "   26 | 132,212.49\n",
      "   27 | -18,914.50\n",
      "\n",
      "Внимание: Баланс стал отрицательным на 27 месяце.\n"
     ]
    }
   ],
   "source": [
    "def calculate_deposit(initial_amount, annual_interest_rate, monthly_withdrawal, months):\n",
    "    balance = initial_amount\n",
    "    monthly_interest_rate = annual_interest_rate / 12 / 100\n",
    "    \n",
    "    print(f\"Месяц | Баланс\")\n",
    "    print(\"-\" * 20)\n",
    "    \n",
    "    for month in range(1, months + 1):\n",
    "        # Начисление процентов\n",
    "        interest = balance * monthly_interest_rate\n",
    "        balance += interest\n",
    "        \n",
    "        # Списание\n",
    "        balance -= monthly_withdrawal\n",
    "        \n",
    "        print(f\"{month:5d} | {balance:,.2f}\")\n",
    "        \n",
    "        if balance < 0:\n",
    "            print(f\"\\nВнимание: Баланс стал отрицательным на {month} месяце.\")\n",
    "            break\n",
    "\n",
    "# Параметры вклада\n",
    "initial_amount = 3400000\n",
    "annual_interest_rate = 17\n",
    "monthly_withdrawal = 153000\n",
    "months = 36  # Расчет на 3 года\n",
    "\n",
    "calculate_deposit(initial_amount, annual_interest_rate, monthly_withdrawal, months)"
   ]
  },
  {
   "cell_type": "code",
   "execution_count": 8,
   "id": "b549ebf1-a239-40fb-b1b8-ee69c78f2de0",
   "metadata": {},
   "outputs": [
    {
     "name": "stdin",
     "output_type": "stream",
     "text": [
      "начальная сумма:  3700000\n",
      "количесво месяцев:  2\n",
      "трата в месяц:  150000\n",
      "процент по вкладу на 2 месяца:  17\n"
     ]
    },
    {
     "name": "stdout",
     "output_type": "stream",
     "text": [
      "\n",
      "Ежемесячное зачисление дл варианта 1 равно:  48167\n",
      "\n"
     ]
    }
   ],
   "source": [
    "amount=float(input('начальная сумма: '))\n",
    "month=float(input('количесво месяцев: '))\n",
    "month_amount= float(input('трата в месяц: '))\n",
    "per_2m=float(input('процент по вкладу на 2 месяца: '))\n",
    "\n",
    "a=month*month_amount\n",
    "b=amount\n",
    "c=per_2m\n",
    "\n",
    "\n",
    "month_v_2m=((b-a)*c)/1200\n",
    "\n",
    "\n",
    "print('')\n",
    "print('Ежемесячное зачисление дл варианта 1 равно: ',round(month_v_2m))\n",
    "print('')"
   ]
  },
  {
   "cell_type": "code",
   "execution_count": 6,
   "id": "8f2c6655-8bbe-4c12-a64a-d54d69563127",
   "metadata": {},
   "outputs": [
    {
     "name": "stdin",
     "output_type": "stream",
     "text": [
      "начальная сумма:  3700000\n",
      "количесво месяцев:  3\n",
      "трата в месяц:  150000\n",
      "процент по вкладу на 3 месяца:  17.5\n"
     ]
    },
    {
     "name": "stdout",
     "output_type": "stream",
     "text": [
      "\n",
      "Ежемесячное зачисление равно:  47396\n",
      "\n"
     ]
    }
   ],
   "source": [
    "amount=float(input('начальная сумма: '))\n",
    "month=float(input('количесво месяцев: '))\n",
    "month_amount= float(input('трата в месяц: '))\n",
    "per_3m=float(input('процент по вкладу на 3 месяца: '))\n",
    "\n",
    "a=month*month_amount\n",
    "b=amount\n",
    "c=per_3m\n",
    "\n",
    "month_v_3m=((b-a)*c)/1200\n",
    "\n",
    "print('')\n",
    "print('Ежемесячное зачисление равно: ',round(month_v_3m))\n",
    "print('')"
   ]
  },
  {
   "cell_type": "code",
   "execution_count": 4,
   "id": "f66834d8-0d83-4487-8004-ccdca2e41053",
   "metadata": {},
   "outputs": [
    {
     "data": {
      "text/plain": [
       "48167"
      ]
     },
     "execution_count": 4,
     "metadata": {},
     "output_type": "execute_result"
    }
   ],
   "source": [
    "def function_example (amount,month,month_amount,per_2m):\n",
    "    a=month*month_amount\n",
    "    b=amount\n",
    "    c=per_2m\n",
    "    result=((b-a)*c)/1200\n",
    "    return round(result)\n",
    "function_example(3700000,2,150000,17)"
   ]
  },
  {
   "cell_type": "code",
   "execution_count": 5,
   "id": "b510aa74-7800-406a-afa9-5c4de646206d",
   "metadata": {},
   "outputs": [
    {
     "data": {
      "text/plain": [
       "49583"
      ]
     },
     "execution_count": 5,
     "metadata": {},
     "output_type": "execute_result"
    }
   ],
   "source": [
    "def function_example (amount,month,month_amount,per_2m):\n",
    "    a=month*month_amount\n",
    "    b=amount\n",
    "    c=per_2m\n",
    "    result=((b-a)*c)/1200\n",
    "    return round(result)\n",
    "function_example(3700000,2,150000,17.5)"
   ]
  },
  {
   "cell_type": "code",
   "execution_count": 6,
   "id": "8055869f-5076-4cdf-829d-7fb87cf4f125",
   "metadata": {},
   "outputs": [
    {
     "data": {
      "text/plain": [
       "51000"
      ]
     },
     "execution_count": 6,
     "metadata": {},
     "output_type": "execute_result"
    }
   ],
   "source": [
    "def function_example (amount,month,month_amount,per_2m):\n",
    "    a=month*month_amount\n",
    "    b=amount\n",
    "    c=per_2m\n",
    "    result=((b-a)*c)/1200\n",
    "    return round(result)\n",
    "function_example(3700000,2,150000,18)"
   ]
  },
  {
   "cell_type": "code",
   "execution_count": 7,
   "id": "6bf18459-87d8-4c5e-afca-8bf2237b7e58",
   "metadata": {},
   "outputs": [
    {
     "data": {
      "text/plain": [
       "47396"
      ]
     },
     "execution_count": 7,
     "metadata": {},
     "output_type": "execute_result"
    }
   ],
   "source": [
    "function_example(3700000,3,150000,17.5)"
   ]
  },
  {
   "cell_type": "code",
   "execution_count": null,
   "id": "d8b6869f-6f34-4c1d-bff3-838196d88649",
   "metadata": {},
   "outputs": [],
   "source": []
  }
 ],
 "metadata": {
  "kernelspec": {
   "display_name": "Python 3 (ipykernel)",
   "language": "python",
   "name": "python3"
  },
  "language_info": {
   "codemirror_mode": {
    "name": "ipython",
    "version": 3
   },
   "file_extension": ".py",
   "mimetype": "text/x-python",
   "name": "python",
   "nbconvert_exporter": "python",
   "pygments_lexer": "ipython3",
   "version": "3.9.5"
  }
 },
 "nbformat": 4,
 "nbformat_minor": 5
}
